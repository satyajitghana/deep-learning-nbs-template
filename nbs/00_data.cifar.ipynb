{
 "cells": [
  {
   "cell_type": "code",
   "execution_count": null,
   "metadata": {},
   "outputs": [],
   "source": [
    "# default_exp data.cifar"
   ]
  },
  {
   "cell_type": "code",
   "execution_count": null,
   "metadata": {},
   "outputs": [],
   "source": [
    "# hide\n",
    "%load_ext lab_black\n",
    "%load_ext autoreload\n",
    "%autoreload 2"
   ]
  },
  {
   "cell_type": "markdown",
   "metadata": {},
   "source": [
    "# CIFAR10\n",
    "> CIFAR10 DataModule"
   ]
  },
  {
   "cell_type": "code",
   "execution_count": null,
   "metadata": {},
   "outputs": [],
   "source": [
    "# export\n",
    "\n",
    "import pytorch_lightning as pl\n",
    "import torchvision.transforms as T\n",
    "import albumentations as A\n",
    "\n",
    "from torchvision import datasets\n",
    "from torch.utils.data import DataLoader, random_split\n",
    "from albumentations.core.composition import BaseCompose\n",
    "from albumentations.core.transforms_interface import BasicTransform\n",
    "\n",
    "from typing import Callable, Optional"
   ]
  },
  {
   "cell_type": "code",
   "execution_count": null,
   "metadata": {},
   "outputs": [],
   "source": [
    "# export\n",
    "class CIFAR10(datasets.CIFAR10):\n",
    "    \"\"\"CIFAR10 Dataset wrapper for the torchvision CIFAR10 module, Supports albumentations\n",
    "    as well as the torchvision transforms\n",
    "\n",
    "    Args:\n",
    "        data_dir (:obj:`str`): the root folder for the dataset\n",
    "        train (bool): either you need the train dataset or the test dataset\n",
    "        transform (`Callable`): the transforms to perform on the images\n",
    "        target_transform (`Callable`): the transform to perform on the labels\n",
    "    \"\"\"\n",
    "\n",
    "    mean = (0.4914, 0.4822, 0.4465)\n",
    "    std = (0.2023, 0.1994, 0.2010)\n",
    "    num_classes = 10\n",
    "    dims = (3, 32, 32)\n",
    "\n",
    "    def __init__(\n",
    "        self,\n",
    "        data_dir: str = \"~/data/cifar\",\n",
    "        train: bool = True,\n",
    "        download=True,\n",
    "        transform: Optional[Callable] = None,\n",
    "        target_transform: Optional[Callable] = None,\n",
    "    ):\n",
    "        super(CIFAR10, self).__init__(\n",
    "            data_dir,\n",
    "            train=train,\n",
    "            download=download,\n",
    "            transform=transform,\n",
    "            target_transform=target_transform,\n",
    "        )\n",
    "\n",
    "    def __getitem__(self, index):\n",
    "        image, label = self.data[index], self.targets[index]\n",
    "\n",
    "        if self.transform is not None:\n",
    "            if isinstance(self.transform, (BaseCompose, BasicTransform)):\n",
    "                transformed = self.transform(image=image)\n",
    "                image = transformed[\"image\"]\n",
    "            else:\n",
    "                image = self.transform(image)\n",
    "\n",
    "        if self.target_transform is not None:\n",
    "            label = self.target_transform(label)\n",
    "\n",
    "        return image, label"
   ]
  },
  {
   "cell_type": "code",
   "execution_count": null,
   "metadata": {},
   "outputs": [],
   "source": [
    "# export\n",
    "class CIFAR10DataModule(pl.LightningDataModule):\n",
    "    \"\"\"The CIFAR10 DataModule for Pytorch Lightning\n",
    "    \n",
    "    Args:\n",
    "        data_dir (:obj:`str`): the root folder to store the downloaded dataset\n",
    "        transform: transforms to apply on the dataset\n",
    "        test_transform: transforms to apply on the test dataset,\n",
    "            default will normalize the dataset\n",
    "    \"\"\"\n",
    "    def __init__(\n",
    "        self,\n",
    "        data_dir: str = \"~/data/cifar\",\n",
    "        transform=T.Compose([T.ToTensor(), T.Normalize(CIFAR10.mean, CIFAR10.std)]),\n",
    "        test_transform=T.Compose(\n",
    "            [T.ToTensor(), T.Normalize(CIFAR10.mean, CIFAR10.std)]\n",
    "        ),\n",
    "    ):\n",
    "        super().__init__()\n",
    "        self.data_dir = data_dir\n",
    "        self.transform = transform\n",
    "        self.test_transform = test_transform\n",
    "        self.mean = CIFAR10.mean\n",
    "        self.std = CIFAR10.std\n",
    "        self.num_classes = CIFAR10.num_classes\n",
    "        self.dims = CIFAR10.dims\n",
    "\n",
    "    def prepare_data(self):\n",
    "        # download\n",
    "        CIFAR10(self.data_dir, train=True, download=True)\n",
    "        CIFAR10(self.data_dir, train=False, download=True)\n",
    "\n",
    "    def setup(self, stage=None):\n",
    "\n",
    "        # Assign train/val datasets for use in dataloaders\n",
    "        if stage == \"fit\" or stage is None:\n",
    "            cifar_full = CIFAR10(self.data_dir, train=True, transform=self.transform)\n",
    "            self.cifar_train, self.cifar_val = random_split(cifar_full, [45000, 5000])\n",
    "\n",
    "        # Assign test dataset for use in dataloader(s)\n",
    "        if stage == \"test\" or stage is None:\n",
    "            self.cifar_test = CIFAR10(\n",
    "                self.data_dir, train=False, transform=self.test_transform\n",
    "            )\n",
    "\n",
    "    def train_dataloader(self):\n",
    "        return DataLoader(\n",
    "            self.cifar_train, batch_size=32, num_workers=2, pin_memory=True\n",
    "        )\n",
    "\n",
    "    def val_dataloader(self):\n",
    "        return DataLoader(self.cifar_val, batch_size=32, num_workers=2, pin_memory=True)\n",
    "\n",
    "    def test_dataloader(self):\n",
    "        return DataLoader(\n",
    "            self.cifar_test, batch_size=32, num_workers=2, pin_memory=True\n",
    "        )"
   ]
  },
  {
   "cell_type": "code",
   "execution_count": null,
   "metadata": {},
   "outputs": [
    {
     "name": "stdout",
     "output_type": "stream",
     "text": [
      "Converted 00_model.dummy.ipynb.\n",
      "Converted 01_data.cifar.ipynb.\n",
      "Converted index.ipynb.\n",
      "Converted template_nb.ipynb.\n"
     ]
    }
   ],
   "source": [
    "from nbdev.export import notebook2script\n",
    "\n",
    "notebook2script()"
   ]
  },
  {
   "cell_type": "code",
   "execution_count": null,
   "metadata": {},
   "outputs": [],
   "source": []
  }
 ],
 "metadata": {
  "kernelspec": {
   "display_name": "Python 3",
   "language": "python",
   "name": "python3"
  }
 },
 "nbformat": 4,
 "nbformat_minor": 4
}
